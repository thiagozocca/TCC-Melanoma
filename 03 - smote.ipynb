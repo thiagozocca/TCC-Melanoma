{
  "nbformat": 4,
  "nbformat_minor": 0,
  "metadata": {
    "instance_type": "ml.g4dn.xlarge",
    "kernelspec": {
      "display_name": "Python 3 (Data Science)",
      "language": "python",
      "name": "python3__SAGEMAKER_INTERNAL__arn:aws:sagemaker:us-east-1:081325390199:image/datascience-1.0"
    },
    "language_info": {
      "codemirror_mode": {
        "name": "ipython",
        "version": 3
      },
      "file_extension": ".py",
      "mimetype": "text/x-python",
      "name": "python",
      "nbconvert_exporter": "python",
      "pygments_lexer": "ipython3",
      "version": "3.7.6"
    },
    "colab": {
      "name": "smote.ipynb",
      "provenance": [],
      "toc_visible": true
    }
  },
  "cells": [
    {
      "cell_type": "code",
      "metadata": {
        "id": "BOzjq2EgV5rl",
        "colab_type": "code",
        "colab": {
          "base_uri": "https://localhost:8080/",
          "height": 105
        },
        "outputId": "bb6c39f3-aa9c-4493-9ae4-191e44cf2a6e"
      },
      "source": [
        "from matplotlib import image\n",
        "from matplotlib import pyplot\n",
        "import numpy as np\n",
        "from PIL import Image\n",
        "import glob\n",
        "import pandas as pd\n",
        "\n",
        "from collections import Counter\n",
        "from sklearn.datasets import make_classification\n",
        "from imblearn.over_sampling import SMOTE\n",
        "from matplotlib import pyplot\n",
        "from numpy import where"
      ],
      "execution_count": 3,
      "outputs": [
        {
          "output_type": "stream",
          "text": [
            "/usr/local/lib/python3.6/dist-packages/sklearn/externals/six.py:31: FutureWarning: The module is deprecated in version 0.21 and will be removed in version 0.23 since we've dropped support for Python 2.7. Please rely on the official version of six (https://pypi.org/project/six/).\n",
            "  \"(https://pypi.org/project/six/).\", FutureWarning)\n",
            "/usr/local/lib/python3.6/dist-packages/sklearn/utils/deprecation.py:144: FutureWarning: The sklearn.neighbors.base module is  deprecated in version 0.22 and will be removed in version 0.24. The corresponding classes / functions should instead be imported from sklearn.neighbors. Anything that cannot be imported from sklearn.neighbors is now part of the private API.\n",
            "  warnings.warn(message, FutureWarning)\n"
          ],
          "name": "stderr"
        }
      ]
    },
    {
      "cell_type": "markdown",
      "metadata": {
        "id": "pBI6KcVMgsXL",
        "colab_type": "text"
      },
      "source": [
        "# Conectando com as pastas do Google Drive"
      ]
    },
    {
      "cell_type": "code",
      "metadata": {
        "id": "O0-UtYMJg0Z4",
        "colab_type": "code",
        "colab": {
          "base_uri": "https://localhost:8080/",
          "height": 34
        },
        "outputId": "891031c0-266c-4ef3-861b-4ab7615e1cba"
      },
      "source": [
        "from google.colab import drive\n",
        "drive.mount('/content/drive')"
      ],
      "execution_count": 1,
      "outputs": [
        {
          "output_type": "stream",
          "text": [
            "Mounted at /content/drive\n"
          ],
          "name": "stdout"
        }
      ]
    },
    {
      "cell_type": "markdown",
      "metadata": {
        "id": "EYc--cW9fDPg",
        "colab_type": "text"
      },
      "source": [
        "# Lendo o arquivo de metadados das imagens e adicionando em uma variável"
      ]
    },
    {
      "cell_type": "code",
      "metadata": {
        "id": "unPiOYoGV5rq",
        "colab_type": "code",
        "colab": {
          "base_uri": "https://localhost:8080/",
          "height": 34
        },
        "outputId": "006f62d7-ebb2-4107-dbac-3da00a693e14"
      },
      "source": [
        "df = pd.read_csv('/content/drive/My Drive/TCC/TCC.csv')\n",
        "len(df)"
      ],
      "execution_count": 9,
      "outputs": [
        {
          "output_type": "execute_result",
          "data": {
            "text/plain": [
              "23906"
            ]
          },
          "metadata": {
            "tags": []
          },
          "execution_count": 9
        }
      ]
    },
    {
      "cell_type": "code",
      "metadata": {
        "id": "4pD4OpVUV5rv",
        "colab_type": "code",
        "colab": {
          "base_uri": "https://localhost:8080/",
          "height": 69
        },
        "outputId": "244649df-54a9-46b4-e8a6-10dc4e9e5696"
      },
      "source": [
        "column_names = ['isic_id','age_approx','anatom_site_general','benign_malignant','clin_size_long_diam_mm','diagnosis','diagnosis_confirm_type','family_hx_mm','mel_class','mel_thick_mm','melanocytic','nevus_type','personal_hx_mm','sex']\n",
        "df_malignant = pd.DataFrame(columns = column_names)\n",
        "df_malignant"
      ],
      "execution_count": 10,
      "outputs": [
        {
          "output_type": "execute_result",
          "data": {
            "text/html": [
              "<div>\n",
              "<style scoped>\n",
              "    .dataframe tbody tr th:only-of-type {\n",
              "        vertical-align: middle;\n",
              "    }\n",
              "\n",
              "    .dataframe tbody tr th {\n",
              "        vertical-align: top;\n",
              "    }\n",
              "\n",
              "    .dataframe thead th {\n",
              "        text-align: right;\n",
              "    }\n",
              "</style>\n",
              "<table border=\"1\" class=\"dataframe\">\n",
              "  <thead>\n",
              "    <tr style=\"text-align: right;\">\n",
              "      <th></th>\n",
              "      <th>isic_id</th>\n",
              "      <th>age_approx</th>\n",
              "      <th>anatom_site_general</th>\n",
              "      <th>benign_malignant</th>\n",
              "      <th>clin_size_long_diam_mm</th>\n",
              "      <th>diagnosis</th>\n",
              "      <th>diagnosis_confirm_type</th>\n",
              "      <th>family_hx_mm</th>\n",
              "      <th>mel_class</th>\n",
              "      <th>mel_thick_mm</th>\n",
              "      <th>melanocytic</th>\n",
              "      <th>nevus_type</th>\n",
              "      <th>personal_hx_mm</th>\n",
              "      <th>sex</th>\n",
              "    </tr>\n",
              "  </thead>\n",
              "  <tbody>\n",
              "  </tbody>\n",
              "</table>\n",
              "</div>"
            ],
            "text/plain": [
              "Empty DataFrame\n",
              "Columns: [isic_id, age_approx, anatom_site_general, benign_malignant, clin_size_long_diam_mm, diagnosis, diagnosis_confirm_type, family_hx_mm, mel_class, mel_thick_mm, melanocytic, nevus_type, personal_hx_mm, sex]\n",
              "Index: []"
            ]
          },
          "metadata": {
            "tags": []
          },
          "execution_count": 10
        }
      ]
    },
    {
      "cell_type": "code",
      "metadata": {
        "id": "C2uHsn4CV5r0",
        "colab_type": "code",
        "colab": {
          "base_uri": "https://localhost:8080/",
          "height": 456
        },
        "outputId": "a1a0fbdc-2ca8-473a-aa2f-dac01437bc06"
      },
      "source": [
        "for index, row in df.iterrows():\n",
        "    if row[3] == 'malignant':\n",
        "        df_malignant = df_malignant.append(row)\n",
        "df_malignant"
      ],
      "execution_count": 12,
      "outputs": [
        {
          "output_type": "execute_result",
          "data": {
            "text/html": [
              "<div>\n",
              "<style scoped>\n",
              "    .dataframe tbody tr th:only-of-type {\n",
              "        vertical-align: middle;\n",
              "    }\n",
              "\n",
              "    .dataframe tbody tr th {\n",
              "        vertical-align: top;\n",
              "    }\n",
              "\n",
              "    .dataframe thead th {\n",
              "        text-align: right;\n",
              "    }\n",
              "</style>\n",
              "<table border=\"1\" class=\"dataframe\">\n",
              "  <thead>\n",
              "    <tr style=\"text-align: right;\">\n",
              "      <th></th>\n",
              "      <th>isic_id</th>\n",
              "      <th>age_approx</th>\n",
              "      <th>anatom_site_general</th>\n",
              "      <th>benign_malignant</th>\n",
              "      <th>clin_size_long_diam_mm</th>\n",
              "      <th>diagnosis</th>\n",
              "      <th>diagnosis_confirm_type</th>\n",
              "      <th>family_hx_mm</th>\n",
              "      <th>mel_class</th>\n",
              "      <th>mel_thick_mm</th>\n",
              "      <th>melanocytic</th>\n",
              "      <th>nevus_type</th>\n",
              "      <th>personal_hx_mm</th>\n",
              "      <th>sex</th>\n",
              "    </tr>\n",
              "  </thead>\n",
              "  <tbody>\n",
              "    <tr>\n",
              "      <th>2</th>\n",
              "      <td>ISIC_0000002</td>\n",
              "      <td>60.0</td>\n",
              "      <td>upper extremity</td>\n",
              "      <td>malignant</td>\n",
              "      <td>NaN</td>\n",
              "      <td>melanoma</td>\n",
              "      <td>histopathology</td>\n",
              "      <td>NaN</td>\n",
              "      <td>NaN</td>\n",
              "      <td>NaN</td>\n",
              "      <td>True</td>\n",
              "      <td>NaN</td>\n",
              "      <td>NaN</td>\n",
              "      <td>female</td>\n",
              "    </tr>\n",
              "    <tr>\n",
              "      <th>4</th>\n",
              "      <td>ISIC_0000004</td>\n",
              "      <td>80.0</td>\n",
              "      <td>posterior torso</td>\n",
              "      <td>malignant</td>\n",
              "      <td>NaN</td>\n",
              "      <td>melanoma</td>\n",
              "      <td>histopathology</td>\n",
              "      <td>NaN</td>\n",
              "      <td>NaN</td>\n",
              "      <td>NaN</td>\n",
              "      <td>True</td>\n",
              "      <td>NaN</td>\n",
              "      <td>NaN</td>\n",
              "      <td>male</td>\n",
              "    </tr>\n",
              "    <tr>\n",
              "      <th>13</th>\n",
              "      <td>ISIC_0000013</td>\n",
              "      <td>30.0</td>\n",
              "      <td>posterior torso</td>\n",
              "      <td>malignant</td>\n",
              "      <td>NaN</td>\n",
              "      <td>melanoma</td>\n",
              "      <td>histopathology</td>\n",
              "      <td>NaN</td>\n",
              "      <td>NaN</td>\n",
              "      <td>NaN</td>\n",
              "      <td>True</td>\n",
              "      <td>NaN</td>\n",
              "      <td>NaN</td>\n",
              "      <td>female</td>\n",
              "    </tr>\n",
              "    <tr>\n",
              "      <th>22</th>\n",
              "      <td>ISIC_0000022</td>\n",
              "      <td>55.0</td>\n",
              "      <td>lower extremity</td>\n",
              "      <td>malignant</td>\n",
              "      <td>NaN</td>\n",
              "      <td>melanoma</td>\n",
              "      <td>histopathology</td>\n",
              "      <td>NaN</td>\n",
              "      <td>NaN</td>\n",
              "      <td>NaN</td>\n",
              "      <td>True</td>\n",
              "      <td>NaN</td>\n",
              "      <td>NaN</td>\n",
              "      <td>female</td>\n",
              "    </tr>\n",
              "    <tr>\n",
              "      <th>26</th>\n",
              "      <td>ISIC_0000026</td>\n",
              "      <td>30.0</td>\n",
              "      <td>lower extremity</td>\n",
              "      <td>malignant</td>\n",
              "      <td>NaN</td>\n",
              "      <td>melanoma</td>\n",
              "      <td>histopathology</td>\n",
              "      <td>NaN</td>\n",
              "      <td>NaN</td>\n",
              "      <td>NaN</td>\n",
              "      <td>True</td>\n",
              "      <td>NaN</td>\n",
              "      <td>NaN</td>\n",
              "      <td>female</td>\n",
              "    </tr>\n",
              "    <tr>\n",
              "      <th>...</th>\n",
              "      <td>...</td>\n",
              "      <td>...</td>\n",
              "      <td>...</td>\n",
              "      <td>...</td>\n",
              "      <td>...</td>\n",
              "      <td>...</td>\n",
              "      <td>...</td>\n",
              "      <td>...</td>\n",
              "      <td>...</td>\n",
              "      <td>...</td>\n",
              "      <td>...</td>\n",
              "      <td>...</td>\n",
              "      <td>...</td>\n",
              "      <td>...</td>\n",
              "    </tr>\n",
              "    <tr>\n",
              "      <th>23878</th>\n",
              "      <td>ISIC_0034294</td>\n",
              "      <td>70.0</td>\n",
              "      <td>posterior torso</td>\n",
              "      <td>malignant</td>\n",
              "      <td>NaN</td>\n",
              "      <td>melanoma</td>\n",
              "      <td>histopathology</td>\n",
              "      <td>NaN</td>\n",
              "      <td>NaN</td>\n",
              "      <td>NaN</td>\n",
              "      <td>True</td>\n",
              "      <td>NaN</td>\n",
              "      <td>NaN</td>\n",
              "      <td>female</td>\n",
              "    </tr>\n",
              "    <tr>\n",
              "      <th>23897</th>\n",
              "      <td>ISIC_0034313</td>\n",
              "      <td>55.0</td>\n",
              "      <td>lower extremity</td>\n",
              "      <td>malignant</td>\n",
              "      <td>NaN</td>\n",
              "      <td>melanoma</td>\n",
              "      <td>histopathology</td>\n",
              "      <td>NaN</td>\n",
              "      <td>NaN</td>\n",
              "      <td>NaN</td>\n",
              "      <td>True</td>\n",
              "      <td>NaN</td>\n",
              "      <td>NaN</td>\n",
              "      <td>male</td>\n",
              "    </tr>\n",
              "    <tr>\n",
              "      <th>23900</th>\n",
              "      <td>ISIC_0034316</td>\n",
              "      <td>85.0</td>\n",
              "      <td>upper extremity</td>\n",
              "      <td>malignant</td>\n",
              "      <td>NaN</td>\n",
              "      <td>melanoma</td>\n",
              "      <td>histopathology</td>\n",
              "      <td>NaN</td>\n",
              "      <td>NaN</td>\n",
              "      <td>NaN</td>\n",
              "      <td>True</td>\n",
              "      <td>NaN</td>\n",
              "      <td>NaN</td>\n",
              "      <td>male</td>\n",
              "    </tr>\n",
              "    <tr>\n",
              "      <th>23901</th>\n",
              "      <td>ISIC_0034317</td>\n",
              "      <td>70.0</td>\n",
              "      <td>lower extremity</td>\n",
              "      <td>malignant</td>\n",
              "      <td>NaN</td>\n",
              "      <td>melanoma</td>\n",
              "      <td>histopathology</td>\n",
              "      <td>NaN</td>\n",
              "      <td>NaN</td>\n",
              "      <td>NaN</td>\n",
              "      <td>True</td>\n",
              "      <td>NaN</td>\n",
              "      <td>NaN</td>\n",
              "      <td>female</td>\n",
              "    </tr>\n",
              "    <tr>\n",
              "      <th>23905</th>\n",
              "      <td>ISIC_0036065</td>\n",
              "      <td>80.0</td>\n",
              "      <td>NaN</td>\n",
              "      <td>malignant</td>\n",
              "      <td>NaN</td>\n",
              "      <td>melanoma</td>\n",
              "      <td>histopathology</td>\n",
              "      <td>NaN</td>\n",
              "      <td>melanoma in situ</td>\n",
              "      <td>0.0</td>\n",
              "      <td>True</td>\n",
              "      <td>NaN</td>\n",
              "      <td>NaN</td>\n",
              "      <td>male</td>\n",
              "    </tr>\n",
              "  </tbody>\n",
              "</table>\n",
              "<p>4572 rows × 14 columns</p>\n",
              "</div>"
            ],
            "text/plain": [
              "            isic_id  age_approx  ... personal_hx_mm     sex\n",
              "2      ISIC_0000002        60.0  ...            NaN  female\n",
              "4      ISIC_0000004        80.0  ...            NaN    male\n",
              "13     ISIC_0000013        30.0  ...            NaN  female\n",
              "22     ISIC_0000022        55.0  ...            NaN  female\n",
              "26     ISIC_0000026        30.0  ...            NaN  female\n",
              "...             ...         ...  ...            ...     ...\n",
              "23878  ISIC_0034294        70.0  ...            NaN  female\n",
              "23897  ISIC_0034313        55.0  ...            NaN    male\n",
              "23900  ISIC_0034316        85.0  ...            NaN    male\n",
              "23901  ISIC_0034317        70.0  ...            NaN  female\n",
              "23905  ISIC_0036065        80.0  ...            NaN    male\n",
              "\n",
              "[4572 rows x 14 columns]"
            ]
          },
          "metadata": {
            "tags": []
          },
          "execution_count": 12
        }
      ]
    },
    {
      "cell_type": "code",
      "metadata": {
        "id": "NtcN-LzUV5r5",
        "colab_type": "code",
        "colab": {
          "base_uri": "https://localhost:8080/",
          "height": 69
        },
        "outputId": "0a850f58-060d-4afe-86b9-5a8111ebca90"
      },
      "source": [
        "column_names = ['isic_id','age_approx','anatom_site_general','benign_malignant','clin_size_long_diam_mm','diagnosis','diagnosis_confirm_type','family_hx_mm','mel_class','mel_thick_mm','melanocytic','nevus_type','personal_hx_mm','sex']\n",
        "df_benign = pd.DataFrame(columns = column_names)\n",
        "df_benign"
      ],
      "execution_count": 13,
      "outputs": [
        {
          "output_type": "execute_result",
          "data": {
            "text/html": [
              "<div>\n",
              "<style scoped>\n",
              "    .dataframe tbody tr th:only-of-type {\n",
              "        vertical-align: middle;\n",
              "    }\n",
              "\n",
              "    .dataframe tbody tr th {\n",
              "        vertical-align: top;\n",
              "    }\n",
              "\n",
              "    .dataframe thead th {\n",
              "        text-align: right;\n",
              "    }\n",
              "</style>\n",
              "<table border=\"1\" class=\"dataframe\">\n",
              "  <thead>\n",
              "    <tr style=\"text-align: right;\">\n",
              "      <th></th>\n",
              "      <th>isic_id</th>\n",
              "      <th>age_approx</th>\n",
              "      <th>anatom_site_general</th>\n",
              "      <th>benign_malignant</th>\n",
              "      <th>clin_size_long_diam_mm</th>\n",
              "      <th>diagnosis</th>\n",
              "      <th>diagnosis_confirm_type</th>\n",
              "      <th>family_hx_mm</th>\n",
              "      <th>mel_class</th>\n",
              "      <th>mel_thick_mm</th>\n",
              "      <th>melanocytic</th>\n",
              "      <th>nevus_type</th>\n",
              "      <th>personal_hx_mm</th>\n",
              "      <th>sex</th>\n",
              "    </tr>\n",
              "  </thead>\n",
              "  <tbody>\n",
              "  </tbody>\n",
              "</table>\n",
              "</div>"
            ],
            "text/plain": [
              "Empty DataFrame\n",
              "Columns: [isic_id, age_approx, anatom_site_general, benign_malignant, clin_size_long_diam_mm, diagnosis, diagnosis_confirm_type, family_hx_mm, mel_class, mel_thick_mm, melanocytic, nevus_type, personal_hx_mm, sex]\n",
              "Index: []"
            ]
          },
          "metadata": {
            "tags": []
          },
          "execution_count": 13
        }
      ]
    },
    {
      "cell_type": "code",
      "metadata": {
        "id": "zN1hJ-LoV5r_",
        "colab_type": "code",
        "colab": {
          "base_uri": "https://localhost:8080/",
          "height": 456
        },
        "outputId": "b0a81032-5153-4c95-d9fc-22e7626634ea"
      },
      "source": [
        "for index, row in df.iterrows():\n",
        "    if row[3] == 'benign':\n",
        "        df_benign = df_benign.append(row)\n",
        "df_benign"
      ],
      "execution_count": 14,
      "outputs": [
        {
          "output_type": "execute_result",
          "data": {
            "text/html": [
              "<div>\n",
              "<style scoped>\n",
              "    .dataframe tbody tr th:only-of-type {\n",
              "        vertical-align: middle;\n",
              "    }\n",
              "\n",
              "    .dataframe tbody tr th {\n",
              "        vertical-align: top;\n",
              "    }\n",
              "\n",
              "    .dataframe thead th {\n",
              "        text-align: right;\n",
              "    }\n",
              "</style>\n",
              "<table border=\"1\" class=\"dataframe\">\n",
              "  <thead>\n",
              "    <tr style=\"text-align: right;\">\n",
              "      <th></th>\n",
              "      <th>isic_id</th>\n",
              "      <th>age_approx</th>\n",
              "      <th>anatom_site_general</th>\n",
              "      <th>benign_malignant</th>\n",
              "      <th>clin_size_long_diam_mm</th>\n",
              "      <th>diagnosis</th>\n",
              "      <th>diagnosis_confirm_type</th>\n",
              "      <th>family_hx_mm</th>\n",
              "      <th>mel_class</th>\n",
              "      <th>mel_thick_mm</th>\n",
              "      <th>melanocytic</th>\n",
              "      <th>nevus_type</th>\n",
              "      <th>personal_hx_mm</th>\n",
              "      <th>sex</th>\n",
              "    </tr>\n",
              "  </thead>\n",
              "  <tbody>\n",
              "    <tr>\n",
              "      <th>0</th>\n",
              "      <td>ISIC_0000000</td>\n",
              "      <td>55.0</td>\n",
              "      <td>anterior torso</td>\n",
              "      <td>benign</td>\n",
              "      <td>NaN</td>\n",
              "      <td>nevus</td>\n",
              "      <td>NaN</td>\n",
              "      <td>NaN</td>\n",
              "      <td>NaN</td>\n",
              "      <td>NaN</td>\n",
              "      <td>True</td>\n",
              "      <td>NaN</td>\n",
              "      <td>NaN</td>\n",
              "      <td>female</td>\n",
              "    </tr>\n",
              "    <tr>\n",
              "      <th>1</th>\n",
              "      <td>ISIC_0000001</td>\n",
              "      <td>30.0</td>\n",
              "      <td>anterior torso</td>\n",
              "      <td>benign</td>\n",
              "      <td>NaN</td>\n",
              "      <td>nevus</td>\n",
              "      <td>NaN</td>\n",
              "      <td>NaN</td>\n",
              "      <td>NaN</td>\n",
              "      <td>NaN</td>\n",
              "      <td>True</td>\n",
              "      <td>NaN</td>\n",
              "      <td>NaN</td>\n",
              "      <td>female</td>\n",
              "    </tr>\n",
              "    <tr>\n",
              "      <th>3</th>\n",
              "      <td>ISIC_0000003</td>\n",
              "      <td>30.0</td>\n",
              "      <td>upper extremity</td>\n",
              "      <td>benign</td>\n",
              "      <td>NaN</td>\n",
              "      <td>nevus</td>\n",
              "      <td>NaN</td>\n",
              "      <td>NaN</td>\n",
              "      <td>NaN</td>\n",
              "      <td>NaN</td>\n",
              "      <td>True</td>\n",
              "      <td>NaN</td>\n",
              "      <td>NaN</td>\n",
              "      <td>male</td>\n",
              "    </tr>\n",
              "    <tr>\n",
              "      <th>5</th>\n",
              "      <td>ISIC_0000005</td>\n",
              "      <td>40.0</td>\n",
              "      <td>anterior torso</td>\n",
              "      <td>benign</td>\n",
              "      <td>NaN</td>\n",
              "      <td>nevus</td>\n",
              "      <td>NaN</td>\n",
              "      <td>NaN</td>\n",
              "      <td>NaN</td>\n",
              "      <td>NaN</td>\n",
              "      <td>True</td>\n",
              "      <td>NaN</td>\n",
              "      <td>NaN</td>\n",
              "      <td>female</td>\n",
              "    </tr>\n",
              "    <tr>\n",
              "      <th>6</th>\n",
              "      <td>ISIC_0000006</td>\n",
              "      <td>25.0</td>\n",
              "      <td>posterior torso</td>\n",
              "      <td>benign</td>\n",
              "      <td>NaN</td>\n",
              "      <td>nevus</td>\n",
              "      <td>NaN</td>\n",
              "      <td>NaN</td>\n",
              "      <td>NaN</td>\n",
              "      <td>NaN</td>\n",
              "      <td>True</td>\n",
              "      <td>NaN</td>\n",
              "      <td>NaN</td>\n",
              "      <td>female</td>\n",
              "    </tr>\n",
              "    <tr>\n",
              "      <th>...</th>\n",
              "      <td>...</td>\n",
              "      <td>...</td>\n",
              "      <td>...</td>\n",
              "      <td>...</td>\n",
              "      <td>...</td>\n",
              "      <td>...</td>\n",
              "      <td>...</td>\n",
              "      <td>...</td>\n",
              "      <td>...</td>\n",
              "      <td>...</td>\n",
              "      <td>...</td>\n",
              "      <td>...</td>\n",
              "      <td>...</td>\n",
              "      <td>...</td>\n",
              "    </tr>\n",
              "    <tr>\n",
              "      <th>23895</th>\n",
              "      <td>ISIC_0034311</td>\n",
              "      <td>55.0</td>\n",
              "      <td>posterior torso</td>\n",
              "      <td>benign</td>\n",
              "      <td>NaN</td>\n",
              "      <td>nevus</td>\n",
              "      <td>histopathology</td>\n",
              "      <td>NaN</td>\n",
              "      <td>NaN</td>\n",
              "      <td>NaN</td>\n",
              "      <td>True</td>\n",
              "      <td>NaN</td>\n",
              "      <td>NaN</td>\n",
              "      <td>male</td>\n",
              "    </tr>\n",
              "    <tr>\n",
              "      <th>23896</th>\n",
              "      <td>ISIC_0034312</td>\n",
              "      <td>40.0</td>\n",
              "      <td>NaN</td>\n",
              "      <td>benign</td>\n",
              "      <td>NaN</td>\n",
              "      <td>nevus</td>\n",
              "      <td>single image expert consensus</td>\n",
              "      <td>NaN</td>\n",
              "      <td>NaN</td>\n",
              "      <td>NaN</td>\n",
              "      <td>True</td>\n",
              "      <td>NaN</td>\n",
              "      <td>NaN</td>\n",
              "      <td>female</td>\n",
              "    </tr>\n",
              "    <tr>\n",
              "      <th>23898</th>\n",
              "      <td>ISIC_0034314</td>\n",
              "      <td>50.0</td>\n",
              "      <td>anterior torso</td>\n",
              "      <td>benign</td>\n",
              "      <td>NaN</td>\n",
              "      <td>nevus</td>\n",
              "      <td>histopathology</td>\n",
              "      <td>NaN</td>\n",
              "      <td>NaN</td>\n",
              "      <td>NaN</td>\n",
              "      <td>True</td>\n",
              "      <td>NaN</td>\n",
              "      <td>NaN</td>\n",
              "      <td>male</td>\n",
              "    </tr>\n",
              "    <tr>\n",
              "      <th>23903</th>\n",
              "      <td>ISIC_0034319</td>\n",
              "      <td>30.0</td>\n",
              "      <td>NaN</td>\n",
              "      <td>benign</td>\n",
              "      <td>NaN</td>\n",
              "      <td>nevus</td>\n",
              "      <td>histopathology</td>\n",
              "      <td>NaN</td>\n",
              "      <td>NaN</td>\n",
              "      <td>NaN</td>\n",
              "      <td>True</td>\n",
              "      <td>NaN</td>\n",
              "      <td>NaN</td>\n",
              "      <td>male</td>\n",
              "    </tr>\n",
              "    <tr>\n",
              "      <th>23904</th>\n",
              "      <td>ISIC_0034320</td>\n",
              "      <td>25.0</td>\n",
              "      <td>anterior torso</td>\n",
              "      <td>benign</td>\n",
              "      <td>NaN</td>\n",
              "      <td>nevus</td>\n",
              "      <td>histopathology</td>\n",
              "      <td>NaN</td>\n",
              "      <td>NaN</td>\n",
              "      <td>NaN</td>\n",
              "      <td>True</td>\n",
              "      <td>NaN</td>\n",
              "      <td>NaN</td>\n",
              "      <td>female</td>\n",
              "    </tr>\n",
              "  </tbody>\n",
              "</table>\n",
              "<p>19373 rows × 14 columns</p>\n",
              "</div>"
            ],
            "text/plain": [
              "            isic_id  age_approx  ... personal_hx_mm     sex\n",
              "0      ISIC_0000000        55.0  ...            NaN  female\n",
              "1      ISIC_0000001        30.0  ...            NaN  female\n",
              "3      ISIC_0000003        30.0  ...            NaN    male\n",
              "5      ISIC_0000005        40.0  ...            NaN  female\n",
              "6      ISIC_0000006        25.0  ...            NaN  female\n",
              "...             ...         ...  ...            ...     ...\n",
              "23895  ISIC_0034311        55.0  ...            NaN    male\n",
              "23896  ISIC_0034312        40.0  ...            NaN  female\n",
              "23898  ISIC_0034314        50.0  ...            NaN    male\n",
              "23903  ISIC_0034319        30.0  ...            NaN    male\n",
              "23904  ISIC_0034320        25.0  ...            NaN  female\n",
              "\n",
              "[19373 rows x 14 columns]"
            ]
          },
          "metadata": {
            "tags": []
          },
          "execution_count": 14
        }
      ]
    },
    {
      "cell_type": "markdown",
      "metadata": {
        "id": "i4D05laJfPji",
        "colab_type": "text"
      },
      "source": [
        "# Colocando todas as imagens em uma variável e ajustando o seu tamanho"
      ]
    },
    {
      "cell_type": "code",
      "metadata": {
        "id": "mZ4gJSnYV5sF",
        "colab_type": "code",
        "colab": {}
      },
      "source": [
        "matrizImagens = []\n",
        "matrizTipos = []\n",
        "\n",
        "for img in glob.glob(\"TCC/dataset_treino/benigno/*.jpg\"):\n",
        "    n = Image.open(img)\n",
        "    n = n.resize((100,100))\n",
        "    n = np.array(n)\n",
        "    matrizImagens.append(n)\n",
        "    \n",
        "    #teste = img[16:28]\n",
        "    \n",
        "    #if teste in df_malignant.values:\n",
        "     #   matrizTipos.append(1)\n",
        "                \n",
        "   #if teste in df_benign.values:\n",
        "    matrizTipos.append(0)\n",
        "        \n",
        " #   print(teste)"
      ],
      "execution_count": 19,
      "outputs": []
    },
    {
      "cell_type": "code",
      "metadata": {
        "id": "6oOPkdg9V5sJ",
        "colab_type": "code",
        "colab": {}
      },
      "source": [
        "for img in glob.glob(\"TCC/dataset_treino/maligno/*.jpg\"):\n",
        "    n = Image.open(img)\n",
        "    n = n.resize((100,100))\n",
        "    n = np.array(n)\n",
        "    matrizImagens.append(n)\n",
        "    \n",
        "    #teste = img[16:28]\n",
        "    \n",
        "    #if teste in df_malignant.values:\n",
        "     #   matrizTipos.append(1)\n",
        "                \n",
        "   #if teste in df_benign.values:\n",
        "    matrizTipos.append(1)\n",
        "        \n",
        " #   print(teste)"
      ],
      "execution_count": 20,
      "outputs": []
    },
    {
      "cell_type": "markdown",
      "metadata": {
        "id": "RfieNj0Kf3fZ",
        "colab_type": "text"
      },
      "source": [
        "# Convertendo a variável array para numpy array"
      ]
    },
    {
      "cell_type": "code",
      "metadata": {
        "id": "a_2N6P15V5sN",
        "colab_type": "code",
        "colab": {}
      },
      "source": [
        "matrizImagens = np.array(matrizImagens)\n",
        "matrizTipos = np.array(matrizTipos)"
      ],
      "execution_count": 21,
      "outputs": []
    },
    {
      "cell_type": "markdown",
      "metadata": {
        "id": "v5AW0lIhgSJe",
        "colab_type": "text"
      },
      "source": [
        "# Verificando se todas as imagens foram processadas"
      ]
    },
    {
      "cell_type": "code",
      "metadata": {
        "id": "5BLgaasTV5sR",
        "colab_type": "code",
        "colab": {},
        "outputId": "793a9a2d-e13c-4ef0-91d1-4c61329d06b0"
      },
      "source": [
        "print(len(matrizImagens))\n",
        "print(len(matrizTipos))"
      ],
      "execution_count": null,
      "outputs": [
        {
          "output_type": "stream",
          "text": [
            "21659\n",
            "21659\n"
          ],
          "name": "stdout"
        }
      ]
    },
    {
      "cell_type": "code",
      "metadata": {
        "id": "oKy99poYV5sV",
        "colab_type": "code",
        "colab": {}
      },
      "source": [
        "np.shape(matrizImagens)"
      ],
      "execution_count": null,
      "outputs": []
    },
    {
      "cell_type": "code",
      "metadata": {
        "id": "9_buMBnHV5sa",
        "colab_type": "code",
        "colab": {
          "base_uri": "https://localhost:8080/",
          "height": 34
        },
        "outputId": "76e59ee8-f54c-4578-f7f6-e0c44988b66c"
      },
      "source": [
        "matrizTipos"
      ],
      "execution_count": 24,
      "outputs": [
        {
          "output_type": "execute_result",
          "data": {
            "text/plain": [
              "array([], dtype=float64)"
            ]
          },
          "metadata": {
            "tags": []
          },
          "execution_count": 24
        }
      ]
    },
    {
      "cell_type": "markdown",
      "metadata": {
        "id": "1f4FGK4qj7Fl",
        "colab_type": "text"
      },
      "source": [
        "# Fazendo o reshape para que o Smote possa processar"
      ]
    },
    {
      "cell_type": "code",
      "metadata": {
        "id": "qy2dw4QdV5sr",
        "colab_type": "code",
        "colab": {}
      },
      "source": [
        "RmatrizImagens = np.array(matrizImagens).reshape(20,100*100*3)\n",
        "RmatrizImagens"
      ],
      "execution_count": null,
      "outputs": []
    },
    {
      "cell_type": "markdown",
      "metadata": {
        "id": "wKRe5epcklU-",
        "colab_type": "text"
      },
      "source": [
        "# Executando o a função Smote"
      ]
    },
    {
      "cell_type": "code",
      "metadata": {
        "id": "3T15InPQV5tI",
        "colab_type": "code",
        "colab": {}
      },
      "source": [
        "# transform the dataset\n",
        "oversample = SMOTE(k_neighbors=3)\n",
        "matrizImagens, matrizTipos = oversample.fit_resample(RmatrizImagens, matrizTipos)"
      ],
      "execution_count": null,
      "outputs": []
    },
    {
      "cell_type": "code",
      "metadata": {
        "id": "NYaQwRwIV5t5",
        "colab_type": "code",
        "colab": {},
        "outputId": "b864ffe0-ec85-4483-a532-2a5f15d1da2f"
      },
      "source": [
        "len(matrizImagens)"
      ],
      "execution_count": null,
      "outputs": [
        {
          "output_type": "execute_result",
          "data": {
            "text/plain": [
              "30"
            ]
          },
          "metadata": {
            "tags": []
          },
          "execution_count": 174
        }
      ]
    },
    {
      "cell_type": "code",
      "metadata": {
        "id": "DkJvbcb9V5uO",
        "colab_type": "code",
        "colab": {},
        "outputId": "8a030d0b-396c-46de-cf47-36cd330d431a"
      },
      "source": [
        "matrizTipos"
      ],
      "execution_count": null,
      "outputs": [
        {
          "output_type": "execute_result",
          "data": {
            "text/plain": [
              "array([0, 1, 0, 0, 1, 1, 1, 0, 0, 0, 1, 0, 0, 0, 0, 0, 0, 0, 0, 0, 1, 1,\n",
              "       1, 1, 1, 1, 1, 1, 1, 1])"
            ]
          },
          "metadata": {
            "tags": []
          },
          "execution_count": 175
        }
      ]
    },
    {
      "cell_type": "markdown",
      "metadata": {
        "id": "-drvrym9kyxv",
        "colab_type": "text"
      },
      "source": [
        "# Passando as imagens para uma variável"
      ]
    },
    {
      "cell_type": "code",
      "metadata": {
        "id": "bqaueEAYV5uY",
        "colab_type": "code",
        "colab": {}
      },
      "source": [
        "testereshape = []\n",
        "for x in range(len(matrizImagens)):\n",
        "    n = matrizImagens[x].reshape(100,100,3)\n",
        "    testereshape.append(n)"
      ],
      "execution_count": null,
      "outputs": []
    },
    {
      "cell_type": "markdown",
      "metadata": {
        "id": "4oW6Kwc8mP6W",
        "colab_type": "text"
      },
      "source": [
        "# Visualizando o número de pixels de uma imagem"
      ]
    },
    {
      "cell_type": "code",
      "metadata": {
        "id": "80MmkRWeV5vC",
        "colab_type": "code",
        "colab": {},
        "outputId": "54b62c36-562c-41fb-fa04-be02ac40f81f"
      },
      "source": [
        "testereshape[0]"
      ],
      "execution_count": null,
      "outputs": [
        {
          "output_type": "execute_result",
          "data": {
            "text/plain": [
              "array([[[253, 253, 253],\n",
              "        [253, 253, 253],\n",
              "        [255, 255, 255],\n",
              "        ...,\n",
              "        [255, 255, 255],\n",
              "        [255, 255, 255],\n",
              "        [255, 255, 255]],\n",
              "\n",
              "       [[255, 255, 255],\n",
              "        [255, 255, 255],\n",
              "        [255, 255, 255],\n",
              "        ...,\n",
              "        [253, 253, 255],\n",
              "        [253, 253, 255],\n",
              "        [253, 253, 255]],\n",
              "\n",
              "       [[253, 253, 255],\n",
              "        [253, 253, 255],\n",
              "        [252, 253, 255],\n",
              "        ...,\n",
              "        [213, 215, 219],\n",
              "        [213, 215, 219],\n",
              "        [213, 215, 219]],\n",
              "\n",
              "       ...,\n",
              "\n",
              "       [[231, 234, 236],\n",
              "        [231, 234, 236],\n",
              "        [231, 234, 236],\n",
              "        ...,\n",
              "        [252, 255, 255],\n",
              "        [252, 255, 255],\n",
              "        [252, 255, 255]],\n",
              "\n",
              "       [[252, 255, 255],\n",
              "        [252, 255, 255],\n",
              "        [252, 255, 255],\n",
              "        ...,\n",
              "        [255, 255, 255],\n",
              "        [255, 255, 255],\n",
              "        [255, 255, 255]],\n",
              "\n",
              "       [[255, 255, 255],\n",
              "        [255, 255, 255],\n",
              "        [255, 255, 255],\n",
              "        ...,\n",
              "        [255, 255, 255],\n",
              "        [255, 255, 255],\n",
              "        [255, 255, 255]]], dtype=uint8)"
            ]
          },
          "metadata": {
            "tags": []
          },
          "execution_count": 56
        }
      ]
    },
    {
      "cell_type": "code",
      "metadata": {
        "id": "BnVNnqMmV5vV",
        "colab_type": "code",
        "colab": {}
      },
      "source": [
        "from matplotlib import image\n",
        "from matplotlib import pyplot"
      ],
      "execution_count": null,
      "outputs": []
    },
    {
      "cell_type": "markdown",
      "metadata": {
        "id": "L_8dFXb6maYO",
        "colab_type": "text"
      },
      "source": [
        "# Verificando as características da variável"
      ]
    },
    {
      "cell_type": "code",
      "metadata": {
        "id": "Z7xLlWE8V5va",
        "colab_type": "code",
        "colab": {}
      },
      "source": [
        "np.dtype(testereshape)"
      ],
      "execution_count": null,
      "outputs": []
    },
    {
      "cell_type": "code",
      "metadata": {
        "id": "wSbVuxnNV5vd",
        "colab_type": "code",
        "colab": {},
        "outputId": "590e1647-999a-4a6f-abb9-e18a7622ee98"
      },
      "source": [
        "np.shape(testereshape)"
      ],
      "execution_count": null,
      "outputs": [
        {
          "output_type": "execute_result",
          "data": {
            "text/plain": [
              "(30, 3072, 2304, 3)"
            ]
          },
          "metadata": {
            "tags": []
          },
          "execution_count": 60
        }
      ]
    },
    {
      "cell_type": "code",
      "metadata": {
        "id": "avexYFhTV5vg",
        "colab_type": "code",
        "colab": {},
        "outputId": "581b4038-2384-401f-c75b-ddd788363743"
      },
      "source": [
        "np.max(testereshape)"
      ],
      "execution_count": null,
      "outputs": [
        {
          "output_type": "execute_result",
          "data": {
            "text/plain": [
              "255"
            ]
          },
          "metadata": {
            "tags": []
          },
          "execution_count": 61
        }
      ]
    },
    {
      "cell_type": "code",
      "metadata": {
        "id": "1VvE44NpV5vl",
        "colab_type": "code",
        "colab": {},
        "outputId": "ed5242c9-e98e-44ca-ce0d-138d50161ff7"
      },
      "source": [
        "np.min(testereshape)"
      ],
      "execution_count": null,
      "outputs": [
        {
          "output_type": "execute_result",
          "data": {
            "text/plain": [
              "0"
            ]
          },
          "metadata": {
            "tags": []
          },
          "execution_count": 62
        }
      ]
    },
    {
      "cell_type": "markdown",
      "metadata": {
        "id": "JGcmkk2VmkAB",
        "colab_type": "text"
      },
      "source": [
        "#Plotando a imagem após o uso do Smote"
      ]
    },
    {
      "cell_type": "code",
      "metadata": {
        "id": "KhPMrgsvV5vs",
        "colab_type": "code",
        "colab": {},
        "outputId": "57af8e95-cdd6-4e5e-e6ec-fef3bd7e4b46"
      },
      "source": [
        "pyplot.imshow(testereshape[29])"
      ],
      "execution_count": null,
      "outputs": [
        {
          "output_type": "execute_result",
          "data": {
            "text/plain": [
              "<matplotlib.image.AxesImage at 0x7f9b0bfe8410>"
            ]
          },
          "metadata": {
            "tags": []
          },
          "execution_count": 192
        },
        {
          "output_type": "display_data",
          "data": {
            "image/png": "[encoded data removed]",
            "text/plain": [
              "<Figure size 432x288 with 1 Axes>"
            ]
          },
          "metadata": {
            "tags": [],
            "needs_background": "light"
          }
        }
      ]
    }
  ]
}