{
  "nbformat": 4,
  "nbformat_minor": 0,
  "metadata": {
    "instance_type": "ml.g4dn.xlarge",
    "kernelspec": {
      "display_name": "Python 3 (Data Science)",
      "language": "python",
      "name": "python3__SAGEMAKER_INTERNAL__arn:aws:sagemaker:us-east-1:081325390199:image/datascience-1.0"
    },
    "language_info": {
      "codemirror_mode": {
        "name": "ipython",
        "version": 3
      },
      "file_extension": ".py",
      "mimetype": "text/x-python",
      "name": "python",
      "nbconvert_exporter": "python",
      "pygments_lexer": "ipython3",
      "version": "3.7.6"
    },
    "colab": {
      "name": "copyimages.ipynb",
      "provenance": []
    }
  },
  "cells": [
    {
      "cell_type": "code",
      "metadata": {
        "id": "1ew3NCgNMJiY",
        "colab_type": "code",
        "colab": {}
      },
      "source": [
        "from matplotlib import image\n",
        "from matplotlib import pyplot\n",
        "import numpy as np\n",
        "from PIL import Image\n",
        "import glob\n",
        "import pandas as pd\n",
        "\n",
        "from collections import Counter\n",
        "from sklearn.datasets import make_classification\n",
        "#from imblearn.over_sampling import SMOTE\n",
        "from matplotlib import pyplot\n",
        "from numpy import where\n",
        "from shutil import copyfile\n",
        "import shutil"
      ],
      "execution_count": null,
      "outputs": []
    },
    {
      "cell_type": "markdown",
      "metadata": {
        "id": "q_mKL2Pld5jP",
        "colab_type": "text"
      },
      "source": [
        "# Conectando com as pastas do Google Drive"
      ]
    },
    {
      "cell_type": "code",
      "metadata": {
        "id": "92xyZCMHd3eA",
        "colab_type": "code",
        "colab": {}
      },
      "source": [
        "from google.colab import drive\n",
        "drive.mount('/content/drive',force_remount=True)"
      ],
      "execution_count": null,
      "outputs": []
    },
    {
      "cell_type": "markdown",
      "metadata": {
        "id": "9Ov1ph-Xcc4L",
        "colab_type": "text"
      },
      "source": [
        "# Copiando as imagens para uma pasta específica - 30% para teste do benigno"
      ]
    },
    {
      "cell_type": "code",
      "metadata": {
        "id": "QxsgjRYWMJiw",
        "colab_type": "code",
        "colab": {}
      },
      "source": [
        "#copia arquivos para uma outra pasta\n",
        "cont = 0\n",
        "for img in glob.glob(\"benigno/*.jpg\"):\n",
        "    cont = cont + 1\n",
        "    if (cont < 9145):# representa 30% das imagens benignas\n",
        "        teste = img[8:27]\n",
        "        shutil.move(img, 'TCC/dataset_treino/benigno/'+teste)\n",
        "    "
      ],
      "execution_count": null,
      "outputs": []
    },
    {
      "cell_type": "code",
      "metadata": {
        "id": "ANj7BEGlMJi9",
        "colab_type": "code",
        "colab": {
          "base_uri": "https://localhost:8080/",
          "height": 34
        },
        "outputId": "ea6d3b95-2c06-4926-afdc-29a2de31dc6e"
      },
      "source": [
        "#código de teste, apenas para confirmar o número de imagens em uma pasta\n",
        "matrizTipos = []\n",
        "#conta a quantidade de arquivos em uma pasta\n",
        "for img in glob.glob(\"TCC/dataset_treino/maligno/*.jpg\"):\n",
        "    matrizTipos.append(1)      \n",
        "print(len(matrizTipos))\n",
        "#print(img)"
      ],
      "execution_count": null,
      "outputs": [
        {
          "output_type": "stream",
          "text": [
            "0\n"
          ],
          "name": "stdout"
        }
      ]
    },
    {
      "cell_type": "code",
      "metadata": {
        "id": "HdlNzVeKMJmG",
        "colab_type": "code",
        "colab": {}
      },
      "source": [
        "#13562 - dataset_treino - benigno --OK\n",
        "#resto - dataset_teste - benigno --OK\n",
        "\n",
        "#1601- dataset_treino - maligno\n",
        "#resto - dataset_teste - maligno"
      ],
      "execution_count": null,
      "outputs": []
    },
    {
      "cell_type": "markdown",
      "metadata": {
        "id": "UfpQpQtddMFQ",
        "colab_type": "text"
      },
      "source": [
        "# Copiando as imagens para uma pasta específica - 30% para teste do maligno"
      ]
    },
    {
      "cell_type": "code",
      "metadata": {
        "id": "cm3jBJiIMJpI",
        "colab_type": "code",
        "colab": {}
      },
      "source": [
        "#move arquivos para uma outra pasta\n",
        "cont = 0\n",
        "for img in glob.glob(\"maligno/*.jpg\"):\n",
        "    cont = cont + 1\n",
        "    if (cont < 1602):# representa 30% das imagens malignas\n",
        "        teste = img[8:24]\n",
        "        shutil.move(img, 'TCC/dataset_treino/maligno/'+teste)\n",
        "        print(teste)"
      ],
      "execution_count": null,
      "outputs": []
    }
  ]
}