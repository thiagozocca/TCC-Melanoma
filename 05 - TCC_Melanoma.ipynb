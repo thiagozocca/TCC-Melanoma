{
  "nbformat": 4,
  "nbformat_minor": 0,
  "metadata": {
    "instance_type": "ml.g4dn.xlarge",
    "kernelspec": {
      "display_name": "Python 3 (Data Science)",
      "language": "python",
      "name": "python3__SAGEMAKER_INTERNAL__arn:aws:sagemaker:us-east-1:081325390199:image/datascience-1.0"
    },
    "language_info": {
      "codemirror_mode": {
        "name": "ipython",
        "version": 3
      },
      "file_extension": ".py",
      "mimetype": "text/x-python",
      "name": "python",
      "nbconvert_exporter": "python",
      "pygments_lexer": "ipython3",
      "version": "3.7.6"
    },
    "colab": {
      "name": "TCC Melanoma.ipynb",
      "provenance": [],
      "collapsed_sections": [],
      "toc_visible": true,
      "machine_shape": "hm"
    },
    "accelerator": "GPU"
  },
  "cells": [
    {
      "cell_type": "code",
      "metadata": {
        "id": "GaUCr_BFmI8b",
        "colab_type": "code",
        "colab": {}
      },
      "source": [
        "#imports\n",
        "import pandas as pd\n",
        "import tensorflow as tf\n",
        "from keras.models import Sequential\n",
        "from keras.layers import Conv2D\n",
        "from keras.layers import Flatten\n",
        "from keras.layers import Dense\n",
        "from keras.datasets import mnist\n",
        "from keras.layers import Dense, Dropout, Activation, Flatten\n",
        "from keras.layers import Convolution2D, MaxPooling2D\n",
        "from keras.utils import np_utils\n",
        "from keras import backend"
      ],
      "execution_count": null,
      "outputs": []
    },
    {
      "cell_type": "markdown",
      "metadata": {
        "id": "THlCI8xeWdO6",
        "colab_type": "text"
      },
      "source": [
        ""
      ]
    },
    {
      "cell_type": "markdown",
      "metadata": {
        "id": "95K9VaQMyvhe",
        "colab_type": "text"
      },
      "source": [
        "# Conectando com as pastas do Google Drive"
      ]
    },
    {
      "cell_type": "code",
      "metadata": {
        "id": "Yp70aGuKmU8P",
        "colab_type": "code",
        "colab": {
          "base_uri": "https://localhost:8080/",
          "height": 34
        },
        "outputId": "6aac0c6d-3c38-475b-ff47-ae833bc95272"
      },
      "source": [
        "from google.colab import drive\n",
        "drive.mount('/content/drive',force_remount=True)"
      ],
      "execution_count": 4,
      "outputs": [
        {
          "output_type": "stream",
          "text": [
            "Mounted at /content/drive\n"
          ],
          "name": "stdout"
        }
      ]
    },
    {
      "cell_type": "markdown",
      "metadata": {
        "id": "x6ijEphXy06g",
        "colab_type": "text"
      },
      "source": [
        "# Criando as métricas de recall, precisão e f1 medida"
      ]
    },
    {
      "cell_type": "code",
      "metadata": {
        "id": "UOMvR_2nmI8g",
        "colab_type": "code",
        "colab": {}
      },
      "source": [
        "# criando métrica recall\n",
        "def recall_m(y_true, y_pred):\n",
        "    true_positives = backend.sum(backend.round(backend.clip(y_true * y_pred, 0, 1)))\n",
        "    possible_positives = backend.sum(backend.round(backend.clip(y_true, 0, 1)))\n",
        "    recall = true_positives / (possible_positives + backend.epsilon())\n",
        "    return recall"
      ],
      "execution_count": 6,
      "outputs": []
    },
    {
      "cell_type": "code",
      "metadata": {
        "id": "xzmqhtxNmI8l",
        "colab_type": "code",
        "colab": {}
      },
      "source": [
        "# criando métrica precisão\n",
        "def precision_m(y_true, y_pred):\n",
        "    true_positives = backend.sum(backend.round(backend.clip(y_true * y_pred, 0, 1)))\n",
        "    predicted_positives = backend.sum(backend.round(backend.clip(y_pred, 0, 1)))\n",
        "    precision = true_positives / (predicted_positives + backend.epsilon())\n",
        "    return precision"
      ],
      "execution_count": 7,
      "outputs": []
    },
    {
      "cell_type": "code",
      "metadata": {
        "id": "bntF7V6EmI8p",
        "colab_type": "code",
        "colab": {}
      },
      "source": [
        "# criando métrica f1\n",
        "def f1_m(y_true, y_pred):\n",
        "    precision = precision_m(y_true, y_pred)\n",
        "    recall = recall_m(y_true, y_pred)\n",
        "    return 2*((precision*recall)/(precision+recall+backend.epsilon()))"
      ],
      "execution_count": 8,
      "outputs": []
    },
    {
      "cell_type": "markdown",
      "metadata": {
        "id": "JZZaJFtSzBmR",
        "colab_type": "text"
      },
      "source": [
        "# Desenvolvendo a rede neural "
      ]
    },
    {
      "cell_type": "code",
      "metadata": {
        "id": "N9s_qSBQmI8v",
        "colab_type": "code",
        "colab": {}
      },
      "source": [
        "# Inicializando a Rede Neural Convolucional\n",
        "classifier = Sequential()"
      ],
      "execution_count": null,
      "outputs": []
    },
    {
      "cell_type": "code",
      "metadata": {
        "id": "OEzsCiZ4mI8y",
        "colab_type": "code",
        "colab": {}
      },
      "source": [
        "# Passo 1 - Primeira Camada de Convolução\n",
        "classifier.add(Conv2D(32, (3, 3), input_shape = (64, 64, 3), activation = 'relu'))"
      ],
      "execution_count": null,
      "outputs": []
    },
    {
      "cell_type": "code",
      "metadata": {
        "id": "jcf-RehFmI84",
        "colab_type": "code",
        "colab": {}
      },
      "source": [
        "# Passo 2 - Pooling\n",
        "classifier.add(MaxPooling2D(pool_size = (2, 2)))"
      ],
      "execution_count": null,
      "outputs": []
    },
    {
      "cell_type": "code",
      "metadata": {
        "id": "hhTEdG1hmI89",
        "colab_type": "code",
        "colab": {}
      },
      "source": [
        "# Adicionando a Segunda Camada de Convolução\n",
        "classifier.add(Conv2D(32, (3, 3), activation = 'relu'))"
      ],
      "execution_count": null,
      "outputs": []
    },
    {
      "cell_type": "code",
      "metadata": {
        "id": "bX_l343kmI9B",
        "colab_type": "code",
        "colab": {}
      },
      "source": [
        "classifier.add(MaxPooling2D(pool_size = (2, 2)))"
      ],
      "execution_count": null,
      "outputs": []
    },
    {
      "cell_type": "code",
      "metadata": {
        "id": "dTCayasymI9F",
        "colab_type": "code",
        "colab": {}
      },
      "source": [
        "# Passo 3 - Flattening\n",
        "classifier.add(Flatten())"
      ],
      "execution_count": null,
      "outputs": []
    },
    {
      "cell_type": "code",
      "metadata": {
        "id": "ClxVZalYmI9J",
        "colab_type": "code",
        "colab": {}
      },
      "source": [
        "# Passo 4 - Full connection\n",
        "classifier.add(Dense(units = 128, activation = 'relu'))\n",
        "classifier.add(Dense(units = 1, activation = 'sigmoid'))"
      ],
      "execution_count": null,
      "outputs": []
    },
    {
      "cell_type": "code",
      "metadata": {
        "id": "6s4dqAD9mI9N",
        "colab_type": "code",
        "colab": {}
      },
      "source": [
        "# Compilando a rede\n",
        "classifier.compile(optimizer = 'adam', loss = 'binary_crossentropy', metrics = ['accuracy',f1_m,precision_m, recall_m])"
      ],
      "execution_count": null,
      "outputs": []
    },
    {
      "cell_type": "code",
      "metadata": {
        "id": "CiQmezwWmI9P",
        "colab_type": "code",
        "colab": {}
      },
      "source": [
        "# Criando os objetos train_datagen e validation_datagen com as regras de pré-processamento das imagens\n",
        "from keras.preprocessing.image import ImageDataGenerator\n",
        "\n",
        "train_datagen = ImageDataGenerator(rescale = 1./255,\n",
        "                                   shear_range = 0.2,\n",
        "                                   zoom_range = 0.2,\n",
        "                                   horizontal_flip = True)\n",
        "\n",
        "validation_datagen = ImageDataGenerator(rescale = 1./255)"
      ],
      "execution_count": null,
      "outputs": []
    },
    {
      "cell_type": "code",
      "metadata": {
        "id": "JzPwZENi21MC",
        "colab_type": "code",
        "colab": {}
      },
      "source": [
        "# verificando as pastas do sistema\n",
        "import shutil\n",
        "\n",
        "import os\n",
        "\n",
        "caminhos = [os.path.join('TCC/dataset_teste/', nome) for nome in os.listdir('TCC/dataset_teste/')]\n",
        "\n",
        "# retirando as pastas que não serão utilizadas\n",
        "import shutil\n",
        "shutil.rmtree('TCC/dataset_teste/.ipynb_checkpoints')"
      ],
      "execution_count": null,
      "outputs": []
    },
    {
      "cell_type": "code",
      "metadata": {
        "id": "DYoknyoBmI9T",
        "colab_type": "code",
        "colab": {
          "base_uri": "https://localhost:8080/",
          "height": 51
        },
        "outputId": "08de06ef-bfa1-4897-c62f-764bf373e5ae"
      },
      "source": [
        "# Pré-processamento das imagens de treino e validação\n",
        "training_set = train_datagen.flow_from_directory('/content/drive/My Drive/TCC/dataset_treino',\n",
        "                                                 target_size = (64, 64),\n",
        "                                                 batch_size = 32,\n",
        "                                                 class_mode = 'binary')\n",
        "\n",
        "validation_set = validation_datagen.flow_from_directory('/content/drive/My Drive/TCC/dataset_teste',\n",
        "                                                        target_size = (64, 64),\n",
        "                                                        batch_size = 32,\n",
        "                                                        class_mode = 'binary')"
      ],
      "execution_count": null,
      "outputs": [
        {
          "output_type": "stream",
          "text": [
            "Found 15163 images belonging to 2 classes.\n",
            "Found 6496 images belonging to 2 classes.\n"
          ],
          "name": "stdout"
        }
      ]
    },
    {
      "cell_type": "markdown",
      "metadata": {
        "id": "e4-4zY3VzM5s",
        "colab_type": "text"
      },
      "source": [
        "# Definindo o pesos para as classes benigna e maligna"
      ]
    },
    {
      "cell_type": "code",
      "metadata": {
        "id": "ErSKJrzkmI9Z",
        "colab_type": "code",
        "colab": {}
      },
      "source": [
        "class_weight = {0: 1,\n",
        "                1: 9}"
      ],
      "execution_count": null,
      "outputs": []
    },
    {
      "cell_type": "markdown",
      "metadata": {
        "id": "-kLFa5Glz-TM",
        "colab_type": "text"
      },
      "source": [
        "# Executando o treinamento das imagens e salvando o modelo treinado"
      ]
    },
    {
      "cell_type": "code",
      "metadata": {
        "id": "jJTGQYNSmI9d",
        "colab_type": "code",
        "colab": {}
      },
      "source": [
        "from PIL import ImageFile\n",
        "ImageFile.LOAD_TRUNCATED_IMAGES = True\n",
        "\n",
        "classifier.fit(training_set,\n",
        "                         epochs = 5,            \n",
        "                         validation_data = validation_set,\n",
        "                         class_weight = class_weight\n",
        "                        )\n",
        "\n",
        "classifier.save('/content/drive/My Drive/TCC/modelo3649aws.h5')"
      ],
      "execution_count": null,
      "outputs": []
    },
    {
      "cell_type": "markdown",
      "metadata": {
        "id": "370HH69X0P5U",
        "colab_type": "text"
      },
      "source": [
        "# Carregando o modelo treinado"
      ]
    },
    {
      "cell_type": "code",
      "metadata": {
        "id": "-qDfeVL40Xlv",
        "colab_type": "code",
        "colab": {}
      },
      "source": [
        "import keras\n",
        "import keras.utils\n",
        "from keras import utils as np_utils"
      ],
      "execution_count": 2,
      "outputs": []
    },
    {
      "cell_type": "code",
      "metadata": {
        "id": "ChOmSNwRmI9q",
        "colab_type": "code",
        "colab": {}
      },
      "source": [
        "classifier = keras.models.load_model('/content/drive/My Drive/TCC/modelo3649aws.h5', custom_objects={'f1_m': f1_m, 'recall_m': recall_m, 'precision_m': precision_m})"
      ],
      "execution_count": 9,
      "outputs": []
    },
    {
      "cell_type": "markdown",
      "metadata": {
        "id": "lV5pVkD_2G63",
        "colab_type": "text"
      },
      "source": [
        "# Analisando a rede criada"
      ]
    },
    {
      "cell_type": "code",
      "metadata": {
        "id": "db1FYz3HWhBo",
        "colab_type": "code",
        "colab": {
          "base_uri": "https://localhost:8080/",
          "height": 391
        },
        "outputId": "20943a4d-743d-4b86-9296-1929b14cdda8"
      },
      "source": [
        "classifier.summary()"
      ],
      "execution_count": 10,
      "outputs": [
        {
          "output_type": "stream",
          "text": [
            "Model: \"sequential_2\"\n",
            "_________________________________________________________________\n",
            "Layer (type)                 Output Shape              Param #   \n",
            "=================================================================\n",
            "conv2d_3 (Conv2D)            (None, 62, 62, 32)        896       \n",
            "_________________________________________________________________\n",
            "max_pooling2d_3 (MaxPooling2 (None, 31, 31, 32)        0         \n",
            "_________________________________________________________________\n",
            "conv2d_4 (Conv2D)            (None, 29, 29, 32)        9248      \n",
            "_________________________________________________________________\n",
            "max_pooling2d_4 (MaxPooling2 (None, 14, 14, 32)        0         \n",
            "_________________________________________________________________\n",
            "flatten_2 (Flatten)          (None, 6272)              0         \n",
            "_________________________________________________________________\n",
            "dense_1 (Dense)              (None, 128)               802944    \n",
            "_________________________________________________________________\n",
            "dense_2 (Dense)              (None, 1)                 129       \n",
            "=================================================================\n",
            "Total params: 813,217\n",
            "Trainable params: 813,217\n",
            "Non-trainable params: 0\n",
            "_________________________________________________________________\n"
          ],
          "name": "stdout"
        }
      ]
    },
    {
      "cell_type": "markdown",
      "metadata": {
        "id": "tMfr01oP3NA0",
        "colab_type": "text"
      },
      "source": [
        "# Verificando a quantidade de acertos das classes benigna e maligna"
      ]
    },
    {
      "cell_type": "code",
      "metadata": {
        "id": "HVzyC4X73tYW",
        "colab_type": "code",
        "colab": {}
      },
      "source": [
        "from keras.preprocessing import image\n",
        "from matplotlib import pyplot\n",
        "import numpy as np\n",
        "from PIL import Image\n",
        "import glob\n",
        "import pandas as pd\n",
        "\n",
        "from collections import Counter\n",
        "from sklearn.datasets import make_classification\n",
        "#from imblearn.over_sampling import SMOTE\n",
        "from matplotlib import pyplot\n",
        "from numpy import where"
      ],
      "execution_count": 11,
      "outputs": []
    },
    {
      "cell_type": "code",
      "metadata": {
        "id": "WIsYLqf5mI-G",
        "colab_type": "code",
        "colab": {
          "base_uri": "https://localhost:8080/",
          "height": 34
        },
        "outputId": "b8bc03db-54cf-493c-cab8-c6beb52c203d"
      },
      "source": [
        "respostas = []\n",
        "for img in glob.glob(\"/content/drive/My Drive/TCC/dataset_teste/maligno/*.jpg\"):\n",
        "    # Primeira Imagem\n",
        "    test_image = image.load_img(img, target_size = (64, 64))\n",
        "    #test_image = image.load_img('benigno/ISIC_0000082.jpg', target_size = (64, 64))\n",
        "    test_image = image.img_to_array(test_image)\n",
        "    test_image = np.expand_dims(test_image, axis = 0)\n",
        "    result = classifier.predict(test_image)\n",
        "    #training_set.class_indices\n",
        "    if result[0][0] == 0:\n",
        "        prediction = 0\n",
        "    else:\n",
        "        prediction = 1\n",
        "    respostas.append(prediction)\n",
        "len(respostas)"
      ],
      "execution_count": 12,
      "outputs": [
        {
          "output_type": "execute_result",
          "data": {
            "text/plain": [
              "685"
            ]
          },
          "metadata": {
            "tags": []
          },
          "execution_count": 12
        }
      ]
    },
    {
      "cell_type": "code",
      "metadata": {
        "id": "tHz2o9oomI-K",
        "colab_type": "code",
        "colab": {
          "base_uri": "https://localhost:8080/",
          "height": 34
        },
        "outputId": "150a374d-da7e-4861-864b-c7b3d235352f"
      },
      "source": [
        "sum(respostas)/len(respostas) * 100"
      ],
      "execution_count": 13,
      "outputs": [
        {
          "output_type": "execute_result",
          "data": {
            "text/plain": [
              "81.02189781021897"
            ]
          },
          "metadata": {
            "tags": []
          },
          "execution_count": 13
        }
      ]
    },
    {
      "cell_type": "code",
      "metadata": {
        "id": "RiAWzQIJ367r",
        "colab_type": "code",
        "colab": {
          "base_uri": "https://localhost:8080/",
          "height": 34
        },
        "outputId": "95933666-b067-4950-aed2-69a9e2701d3c"
      },
      "source": [
        "respostas = []\n",
        "for img in glob.glob(\"/content/drive/My Drive/TCC/dataset_teste/benigno/*.jpg\"):\n",
        "    # Primeira Imagem\n",
        "    test_image = image.load_img(img, target_size = (64, 64))\n",
        "    #test_image = image.load_img('benigno/ISIC_0000082.jpg', target_size = (64, 64))\n",
        "    test_image = image.img_to_array(test_image)\n",
        "    test_image = np.expand_dims(test_image, axis = 0)\n",
        "    result = classifier.predict(test_image)\n",
        "    #training_set.class_indices\n",
        "    if result[0][0] == 0:\n",
        "        prediction = 1\n",
        "    else:\n",
        "        prediction = 0\n",
        "    respostas.append(prediction)\n",
        "len(respostas)"
      ],
      "execution_count": 14,
      "outputs": [
        {
          "output_type": "execute_result",
          "data": {
            "text/plain": [
              "5811"
            ]
          },
          "metadata": {
            "tags": []
          },
          "execution_count": 14
        }
      ]
    },
    {
      "cell_type": "code",
      "metadata": {
        "id": "4jGFHIqNq-PO",
        "colab_type": "code",
        "colab": {
          "base_uri": "https://localhost:8080/",
          "height": 34
        },
        "outputId": "3a32f73e-b525-4e0a-b698-679ea4891648"
      },
      "source": [
        "sum(respostas)/len(respostas) * 100"
      ],
      "execution_count": 15,
      "outputs": [
        {
          "output_type": "execute_result",
          "data": {
            "text/plain": [
              "86.852521080709"
            ]
          },
          "metadata": {
            "tags": []
          },
          "execution_count": 15
        }
      ]
    }
  ]
}